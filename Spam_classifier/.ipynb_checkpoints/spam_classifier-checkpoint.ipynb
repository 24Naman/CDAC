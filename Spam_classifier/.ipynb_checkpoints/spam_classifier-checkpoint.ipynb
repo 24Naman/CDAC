{
 "cells": [
  {
   "cell_type": "code",
   "execution_count": 10,
   "metadata": {
    "ExecuteTime": {
     "end_time": "2019-02-28T07:28:56.950218Z",
     "start_time": "2019-02-28T07:28:56.939333Z"
    }
   },
   "outputs": [],
   "source": [
    "import numpy as np\n",
    "from collections import Counter\n",
    "from math import log10 as log\n",
    "import numpy as np\n",
    "from os import listdir\n",
    "from os.path import join\n",
    "from spam_word import word as spam_word\n",
    "from functools import reduce"
   ]
  },
  {
   "cell_type": "code",
   "execution_count": 11,
   "metadata": {
    "ExecuteTime": {
     "end_time": "2019-02-28T07:28:57.738193Z",
     "start_time": "2019-02-28T07:28:57.716818Z"
    }
   },
   "outputs": [],
   "source": [
    "def find_probability_in_spam():\n",
    "    spam_word_set = set(spam_word)\n",
    "    probability = {i:0 for i in spam_word_set}\n",
    "    spam_file_name = listdir(\"spam\")\n",
    "    spam_files = len(spam_file_name)\n",
    "    for file_name in spam_file_name:\n",
    "        file_name = join(\"spam\", file_name)\n",
    "        file = open(file_name, \"rb\").read().decode(errors=\"ignore\")\n",
    "        file_data = dict(Counter(file.replace(\"\\n\",\" \").lower().split(\" \")))\n",
    "        spam_word_in_mail = list(set(file_data.keys()) & spam_word_set)\n",
    "        for word in spam_word_in_mail:\n",
    "            probability[word] += file_data[word]/spam_files\n",
    "    return probability  "
   ]
  },
  {
   "cell_type": "code",
   "execution_count": 12,
   "metadata": {
    "ExecuteTime": {
     "end_time": "2019-02-28T07:28:58.484626Z",
     "start_time": "2019-02-28T07:28:58.467158Z"
    }
   },
   "outputs": [],
   "source": [
    "def find_probability_in_ham():\n",
    "    spam_word_set = set(spam_word)\n",
    "    probability = {i:0 for i in spam_word_set}\n",
    "    spam_file_name = listdir(\"ham\")\n",
    "    spam_files = len(spam_file_name)\n",
    "    for file_name in spam_file_name:\n",
    "        file_name = join(\"ham\", file_name)\n",
    "        file = open(file_name, \"rb\").read().decode(errors=\"ignore\")\n",
    "        file_data = dict(Counter(file.replace(\"\\n\",\" \").lower().split(\" \")))\n",
    "        spam_word_in_mail = list(set(file_data.keys()) & spam_word_set)\n",
    "        for word in spam_word_in_mail:\n",
    "            probability[word] += file_data[word]/spam_files\n",
    "    return probability  "
   ]
  },
  {
   "cell_type": "code",
   "execution_count": 13,
   "metadata": {
    "ExecuteTime": {
     "end_time": "2019-02-28T07:29:02.131870Z",
     "start_time": "2019-02-28T07:28:59.287975Z"
    }
   },
   "outputs": [],
   "source": [
    "spam_prob = find_probability_in_spam()\n",
    "ham_prob = find_probability_in_ham()"
   ]
  },
  {
   "cell_type": "code",
   "execution_count": 14,
   "metadata": {
    "ExecuteTime": {
     "end_time": "2019-02-28T07:29:02.137745Z",
     "start_time": "2019-02-28T07:29:02.133451Z"
    }
   },
   "outputs": [],
   "source": [
    "likelihoods_spam = sum(spam_prob.values())\n",
    "likelihoods_ham = sum(ham_prob.values())"
   ]
  },
  {
   "cell_type": "code",
   "execution_count": 17,
   "metadata": {
    "ExecuteTime": {
     "end_time": "2019-02-28T07:29:10.643958Z",
     "start_time": "2019-02-28T07:29:10.624210Z"
    }
   },
   "outputs": [],
   "source": [
    "def check_for_spam(email):\n",
    "    spam_mail,ham_mail = 0,0\n",
    "    mail_prob = dict(Counter(email.replace(\"\\n\",\" \").lower().split(\" \"))).keys()\n",
    "    #check for spam\n",
    "    for i in spam_prob:\n",
    "        if i in mail_prob:\n",
    "            spam_mail += log(spam_prob[i])\n",
    "        else:\n",
    "            spam_mail += log((1-spam_prob[i]))\n",
    "    #check for ham\n",
    "    for i in spam_prob:\n",
    "        if i in mail_prob:\n",
    "            ham_mail += log(ham_prob[i])\n",
    "        else:\n",
    "            ham_mail += log((1 - ham_prob[i]))\n",
    "    spam_mail += log(likelihoods_spam)\n",
    "    ham_mail += log(likelihoods_ham)\n",
    "    print(spam_mail,ham_mail)\n",
    "    return \"spam\" if spam_mail>ham_mail else \"ham\"\n",
    "    \n",
    "    "
   ]
  },
  {
   "cell_type": "code",
   "execution_count": 19,
   "metadata": {
    "ExecuteTime": {
     "end_time": "2019-02-28T07:29:28.254541Z",
     "start_time": "2019-02-28T07:29:28.249560Z"
    }
   },
   "outputs": [
    {
     "name": "stdout",
     "output_type": "stream",
     "text": [
      "-2.6571369247262835 -3.226225115601851\n"
     ]
    },
    {
     "data": {
      "text/plain": [
       "'spam'"
      ]
     },
     "execution_count": 19,
     "metadata": {},
     "output_type": "execute_result"
    }
   ],
   "source": [
    "# spam_file_name = listdir(\"spam\")\n",
    "# result = []\n",
    "# for file_name in spam_file_name:\n",
    "#     file_name = join(\"spam\", file_name)\n",
    "#     file = open(file_name, \"rb\").read().decode(errors=\"ignore\")\n",
    "#     result.append(check_for_spam(file))\n",
    "# print(Counter(result))\n",
    "check_for_spam('car lone')"
   ]
  },
  {
   "cell_type": "code",
   "execution_count": null,
   "metadata": {},
   "outputs": [],
   "source": []
  },
  {
   "cell_type": "code",
   "execution_count": null,
   "metadata": {},
   "outputs": [],
   "source": []
  }
 ],
 "metadata": {
  "kernelspec": {
   "display_name": "Python 3",
   "language": "python",
   "name": "python3"
  },
  "language_info": {
   "codemirror_mode": {
    "name": "ipython",
    "version": 3
   },
   "file_extension": ".py",
   "mimetype": "text/x-python",
   "name": "python",
   "nbconvert_exporter": "python",
   "pygments_lexer": "ipython3",
   "version": "3.6.8"
  }
 },
 "nbformat": 4,
 "nbformat_minor": 2
}
