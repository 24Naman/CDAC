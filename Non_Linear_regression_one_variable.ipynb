{
 "cells": [
  {
   "cell_type": "code",
   "execution_count": 146,
   "metadata": {
    "ExecuteTime": {
     "end_time": "2019-03-02T09:39:24.455280Z",
     "start_time": "2019-03-02T09:39:24.442059Z"
    }
   },
   "outputs": [],
   "source": [
    "import numpy as np\n",
    "from numpy import array\n",
    "from math import log\n",
    "import matplotlib.pyplot as plt\n",
    "import seaborn as sns\n",
    "sns.set()"
   ]
  },
  {
   "cell_type": "code",
   "execution_count": 160,
   "metadata": {
    "ExecuteTime": {
     "end_time": "2019-03-02T09:41:09.902095Z",
     "start_time": "2019-03-02T09:41:09.892534Z"
    }
   },
   "outputs": [],
   "source": [
    "def hypothesis(x, weight):\n",
    "    return weight[1] * x + weight[0] + weight[2]*x**2 "
   ]
  },
  {
   "cell_type": "code",
   "execution_count": 161,
   "metadata": {
    "ExecuteTime": {
     "end_time": "2019-03-02T09:41:10.295001Z",
     "start_time": "2019-03-02T09:41:10.287008Z"
    }
   },
   "outputs": [],
   "source": [
    "def optimize(x,y,alpha,weight):\n",
    "    N = len(y)\n",
    "    currunt_y = hypothesis(x,weight)\n",
    "    cost = round(sum([i**2 for i in (y-currunt_y)])/N,10)\n",
    "    m_gredient = sum(x * (currunt_y - y)) / N\n",
    "    b_gredient = sum(currunt_y - y) / N\n",
    "    weight[1] -= alpha * m_gredient\n",
    "    weight[2] -= alpha * m_gredient\n",
    "    weight[0] -= alpha * b_gredient\n",
    "    return weight,cost"
   ]
  },
  {
   "cell_type": "code",
   "execution_count": 168,
   "metadata": {
    "ExecuteTime": {
     "end_time": "2019-03-02T11:01:34.059649Z",
     "start_time": "2019-03-02T11:01:34.045078Z"
    }
   },
   "outputs": [],
   "source": [
    "def non_linear_fit(x,y,weight,alpha,itertaion=10000):\n",
    "    for i in range(1,itertaion):\n",
    "        weight,cost = optimize(x,y,alpha,weight)\n",
    "    print(\"cost is : \",cost,\"\\n Weight is : \",weight)\n",
    "    return weight"
   ]
  },
  {
   "cell_type": "code",
   "execution_count": 169,
   "metadata": {
    "ExecuteTime": {
     "end_time": "2019-03-02T11:01:34.243315Z",
     "start_time": "2019-03-02T11:01:34.235838Z"
    }
   },
   "outputs": [],
   "source": [
    "x = array([10,20,40,40,50])\n",
    "y = array([12,18,43,64,69])\n",
    "weight = [0,0,0]\n",
    "alpha = 0.00001"
   ]
  },
  {
   "cell_type": "code",
   "execution_count": 170,
   "metadata": {
    "ExecuteTime": {
     "end_time": "2019-03-02T11:01:34.804100Z",
     "start_time": "2019-03-02T11:01:34.419343Z"
    }
   },
   "outputs": [
    {
     "name": "stdout",
     "output_type": "stream",
     "text": [
      "cost is :  83.5700221494 \n",
      " Weight is :  [0.22419691518909124, 0.03047775943328401, 0.03047775943328401]\n"
     ]
    },
    {
     "data": {
      "image/png": "[encoded data removed]",
      "text/plain": [
       "<Figure size 432x288 with 1 Axes>"
      ]
     },
     "metadata": {},
     "output_type": "display_data"
    }
   ],
   "source": [
    "plt.scatter(x,y,c='r')\n",
    "weight = non_linear_fit(x,y,weight,alpha)\n",
    "plot_y = hypothesis(x,weight)\n",
    "plt.plot(x,plot_y,c=\"b\")\n",
    "plt.show()"
   ]
  },
  {
   "cell_type": "code",
   "execution_count": null,
   "metadata": {},
   "outputs": [],
   "source": []
  }
 ],
 "metadata": {
  "kernelspec": {
   "display_name": "Python 3",
   "language": "python",
   "name": "python3"
  },
  "language_info": {
   "codemirror_mode": {
    "name": "ipython",
    "version": 3
   },
   "file_extension": ".py",
   "mimetype": "text/x-python",
   "name": "python",
   "nbconvert_exporter": "python",
   "pygments_lexer": "ipython3",
   "version": "3.6.8"
  }
 },
 "nbformat": 4,
 "nbformat_minor": 2
}
