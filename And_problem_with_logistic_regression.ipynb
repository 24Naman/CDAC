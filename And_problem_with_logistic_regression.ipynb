{
 "cells": [
  {
   "cell_type": "code",
   "execution_count": 1,
   "metadata": {
    "ExecuteTime": {
     "end_time": "2019-03-01T07:11:17.318896Z",
     "start_time": "2019-03-01T07:11:17.252331Z"
    }
   },
   "outputs": [],
   "source": [
    "import numpy as np\n",
    "from math import e"
   ]
  },
  {
   "cell_type": "code",
   "execution_count": 2,
   "metadata": {
    "ExecuteTime": {
     "end_time": "2019-03-01T07:11:17.913403Z",
     "start_time": "2019-03-01T07:11:17.905550Z"
    }
   },
   "outputs": [],
   "source": [
    "def sigmod(x):\n",
    "    return 1/(1 + e**-x) - 0.1"
   ]
  },
  {
   "cell_type": "code",
   "execution_count": 3,
   "metadata": {
    "ExecuteTime": {
     "end_time": "2019-03-01T07:11:18.229145Z",
     "start_time": "2019-03-01T07:11:18.222091Z"
    }
   },
   "outputs": [],
   "source": [
    "def error_function(y,y_cap):\n",
    "    return sum((y - y_cap)**2)/len(y) "
   ]
  },
  {
   "cell_type": "code",
   "execution_count": 4,
   "metadata": {
    "ExecuteTime": {
     "end_time": "2019-03-01T07:11:18.415144Z",
     "start_time": "2019-03-01T07:11:18.404014Z"
    }
   },
   "outputs": [],
   "source": [
    "def minimize(x0,x1,y):\n",
    "    for w0 in np.arange(-15,15,0.2):\n",
    "        for w1 in np.arange(-15,15,0.2):\n",
    "            for w2 in np.arange(-15,15,0.2):\n",
    "                z = w0 + w1*x0 + w2*x1\n",
    "                sig = sigmod(z)\n",
    "                error = error_function(y,z)\n",
    "                if error<0.1:\n",
    "                    print(error)\n",
    "                return w0,w1,w2\n",
    "\n",
    "                    "
   ]
  },
  {
   "cell_type": "code",
   "execution_count": 5,
   "metadata": {
    "ExecuteTime": {
     "end_time": "2019-03-01T07:11:18.576041Z",
     "start_time": "2019-03-01T07:11:18.571096Z"
    }
   },
   "outputs": [],
   "source": [
    "x0 = np.array([0,0,1,1])\n",
    "x1 = np.array([0,1,0,1])\n",
    "y = np.array([0,1,1,1])"
   ]
  },
  {
   "cell_type": "code",
   "execution_count": 6,
   "metadata": {
    "ExecuteTime": {
     "end_time": "2019-03-01T07:11:18.772953Z",
     "start_time": "2019-03-01T07:11:18.765006Z"
    }
   },
   "outputs": [],
   "source": [
    "weight = minimize(x0,x1,y)"
   ]
  },
  {
   "cell_type": "code",
   "execution_count": 9,
   "metadata": {
    "ExecuteTime": {
     "end_time": "2019-03-01T07:11:47.240548Z",
     "start_time": "2019-03-01T07:11:47.234225Z"
    }
   },
   "outputs": [],
   "source": [
    "def test(x0,x1):\n",
    "    w0,w1,w2 = weight\n",
    "    z = w0 + w1*x0 + w2*x1\n",
    "    print(z)\n",
    "    if z<0.5:\n",
    "        print(0)\n",
    "    else:\n",
    "        print(1)"
   ]
  },
  {
   "cell_type": "code",
   "execution_count": 10,
   "metadata": {
    "ExecuteTime": {
     "end_time": "2019-03-01T07:11:47.528213Z",
     "start_time": "2019-03-01T07:11:47.521140Z"
    }
   },
   "outputs": [
    {
     "name": "stdout",
     "output_type": "stream",
     "text": [
      "-15.0\n",
      "0\n",
      "-30.0\n",
      "0\n",
      "-30.0\n",
      "0\n",
      "-45.0\n",
      "0\n"
     ]
    }
   ],
   "source": [
    "test(0,0)\n",
    "test(0,1)\n",
    "test(1,0)\n",
    "test(1,1)"
   ]
  },
  {
   "cell_type": "code",
   "execution_count": null,
   "metadata": {},
   "outputs": [],
   "source": []
  },
  {
   "cell_type": "code",
   "execution_count": null,
   "metadata": {},
   "outputs": [],
   "source": []
  }
 ],
 "metadata": {
  "kernelspec": {
   "display_name": "Python 3",
   "language": "python",
   "name": "python3"
  },
  "language_info": {
   "codemirror_mode": {
    "name": "ipython",
    "version": 3
   },
   "file_extension": ".py",
   "mimetype": "text/x-python",
   "name": "python",
   "nbconvert_exporter": "python",
   "pygments_lexer": "ipython3",
   "version": "3.6.8"
  }
 },
 "nbformat": 4,
 "nbformat_minor": 2
}
