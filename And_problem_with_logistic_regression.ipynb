{
 "cells": [
  {
   "cell_type": "code",
   "execution_count": 1,
   "metadata": {
    "ExecuteTime": {
     "end_time": "2019-03-01T09:24:04.983104Z",
     "start_time": "2019-03-01T09:24:04.921913Z"
    }
   },
   "outputs": [],
   "source": [
    "import numpy as np\n",
    "from math import e"
   ]
  },
  {
   "cell_type": "code",
   "execution_count": 2,
   "metadata": {
    "ExecuteTime": {
     "end_time": "2019-03-01T09:24:04.988610Z",
     "start_time": "2019-03-01T09:24:04.985811Z"
    }
   },
   "outputs": [],
   "source": [
    "def sigmod(x):\n",
    "    return 1/(1 + e**-x) - 0.1"
   ]
  },
  {
   "cell_type": "code",
   "execution_count": 3,
   "metadata": {
    "ExecuteTime": {
     "end_time": "2019-03-01T09:24:04.999844Z",
     "start_time": "2019-03-01T09:24:04.990510Z"
    }
   },
   "outputs": [],
   "source": [
    "def error_function(y,y_cap):\n",
    "    return sum((y - y_cap)**2)/len(y) "
   ]
  },
  {
   "cell_type": "code",
   "execution_count": 4,
   "metadata": {
    "ExecuteTime": {
     "end_time": "2019-03-01T09:24:05.011054Z",
     "start_time": "2019-03-01T09:24:05.002269Z"
    }
   },
   "outputs": [],
   "source": [
    "def minimize(x0,x1,y):\n",
    "    for w0 in np.arange(-15,15,0.2):\n",
    "        for w1 in np.arange(-15,15,0.2):\n",
    "            for w2 in np.arange(-15,15,0.2):\n",
    "                z = sigmod(w0 + w1*x0 + w2*x1)\n",
    "                error = error_function(y,z)\n",
    "                if error<0.01:\n",
    "                    print(error)\n",
    "                    return w0,w1,w2"
   ]
  },
  {
   "cell_type": "code",
   "execution_count": 5,
   "metadata": {
    "ExecuteTime": {
     "end_time": "2019-03-01T09:24:05.023202Z",
     "start_time": "2019-03-01T09:24:05.014642Z"
    }
   },
   "outputs": [],
   "source": [
    "x0 = np.array([0.3,0.1,0.9,0.87])\n",
    "x1 = np.array([0,1,0,1])"
   ]
  },
  {
   "cell_type": "code",
   "execution_count": 6,
   "metadata": {
    "ExecuteTime": {
     "end_time": "2019-03-01T09:24:14.138439Z",
     "start_time": "2019-03-01T09:24:05.024666Z"
    }
   },
   "outputs": [
    {
     "name": "stdout",
     "output_type": "stream",
     "text": [
      "0.009745026854342625\n",
      "0.009980380267398984\n"
     ]
    }
   ],
   "source": [
    "and_weight = minimize(x0,x1,np.array([0,0,0,1]))\n",
    "or_weight = minimize(x0,x1,np.array([0,1,1,1]))"
   ]
  },
  {
   "cell_type": "code",
   "execution_count": 15,
   "metadata": {
    "ExecuteTime": {
     "end_time": "2019-03-01T09:30:32.902215Z",
     "start_time": "2019-03-01T09:30:32.896467Z"
    }
   },
   "outputs": [],
   "source": [
    "def Or(x0,x1):\n",
    "    w0,w1,w2 = or_weight\n",
    "    z = sigmod(w0 + w1*x0 + w2*x1)\n",
    "    print(\"weight is \", or_weight)\n",
    "    if z<0.5:\n",
    "        return False\n",
    "    else:\n",
    "        return True"
   ]
  },
  {
   "cell_type": "code",
   "execution_count": 16,
   "metadata": {
    "ExecuteTime": {
     "end_time": "2019-03-01T09:30:33.317416Z",
     "start_time": "2019-03-01T09:30:33.308121Z"
    }
   },
   "outputs": [],
   "source": [
    "def And(x0,x1):\n",
    "    w0,w1,w2 = and_weight\n",
    "    z = sigmod(w0 + w1*x0 + w2*x1)\n",
    "    if z<0.5:\n",
    "        return False\n",
    "    else:\n",
    "        return True"
   ]
  },
  {
   "cell_type": "code",
   "execution_count": 17,
   "metadata": {
    "ExecuteTime": {
     "end_time": "2019-03-01T09:30:33.714123Z",
     "start_time": "2019-03-01T09:30:33.705735Z"
    }
   },
   "outputs": [],
   "source": [
    "def xor(x0,x1):\n",
    "    return not Or(not Or(x0,x1),And(x0,x1))"
   ]
  },
  {
   "cell_type": "code",
   "execution_count": 18,
   "metadata": {
    "ExecuteTime": {
     "end_time": "2019-03-01T09:30:34.936373Z",
     "start_time": "2019-03-01T09:30:34.930474Z"
    }
   },
   "outputs": [
    {
     "name": "stdout",
     "output_type": "stream",
     "text": [
      "weight is  (-8.600000000000023, 14.599999999999895, 13.399999999999899)\n"
     ]
    },
    {
     "data": {
      "text/plain": [
       "True"
      ]
     },
     "execution_count": 18,
     "metadata": {},
     "output_type": "execute_result"
    }
   ],
   "source": [
    "Or(0,1)"
   ]
  },
  {
   "cell_type": "code",
   "execution_count": null,
   "metadata": {},
   "outputs": [],
   "source": []
  }
 ],
 "metadata": {
  "kernelspec": {
   "display_name": "Python 3",
   "language": "python",
   "name": "python3"
  },
  "language_info": {
   "codemirror_mode": {
    "name": "ipython",
    "version": 3
   },
   "file_extension": ".py",
   "mimetype": "text/x-python",
   "name": "python",
   "nbconvert_exporter": "python",
   "pygments_lexer": "ipython3",
   "version": "3.6.8"
  }
 },
 "nbformat": 4,
 "nbformat_minor": 2
}
