{
 "cells": [
  {
   "cell_type": "code",
   "execution_count": 1,
   "metadata": {
    "ExecuteTime": {
     "end_time": "2019-03-01T07:08:10.885162Z",
     "start_time": "2019-03-01T07:08:09.725510Z"
    }
   },
   "outputs": [],
   "source": [
    "import numpy as np\n",
    "from numpy import array\n",
    "import matplotlib.pyplot as plt\n",
    "import seaborn as sns\n",
    "sns.set()"
   ]
  },
  {
   "cell_type": "code",
   "execution_count": 2,
   "metadata": {
    "ExecuteTime": {
     "end_time": "2019-03-01T07:08:11.417498Z",
     "start_time": "2019-03-01T07:08:11.409794Z"
    }
   },
   "outputs": [],
   "source": [
    "def hypothesis(x, weight):\n",
    "    return weight[1] * x + weight[0]"
   ]
  },
  {
   "cell_type": "code",
   "execution_count": 3,
   "metadata": {
    "ExecuteTime": {
     "end_time": "2019-03-01T07:08:12.167976Z",
     "start_time": "2019-03-01T07:08:12.152730Z"
    }
   },
   "outputs": [],
   "source": [
    "def optimize(x,y,alpha,weight):\n",
    "    N = len(y)\n",
    "    currunt_y = hypothesis(x,weight)\n",
    "    cost = round(sum([i**2 for i in (y-currunt_y)])/N,10)\n",
    "    m_gredient = sum(x * (currunt_y - y)) / N\n",
    "    b_gredient = sum(currunt_y - y) / N\n",
    "    weight[1] -= alpha * m_gredient\n",
    "    weight[0] -= alpha * b_gredient\n",
    "    return weight,cost"
   ]
  },
  {
   "cell_type": "code",
   "execution_count": 4,
   "metadata": {
    "ExecuteTime": {
     "end_time": "2019-03-01T07:08:13.467200Z",
     "start_time": "2019-03-01T07:08:13.462338Z"
    }
   },
   "outputs": [],
   "source": [
    "def linear_fit(x,y,weight,alpha,itertaion=1000):\n",
    "    for i in range(1,itertaion):\n",
    "        weight,cost = optimize(x,y,alpha,weight)\n",
    "        if cost<0.01:\n",
    "            print(\"iteration :\",i)\n",
    "            print(weight,cost)\n",
    "            return weight\n",
    "    print(weight,cost)\n",
    "    return weight"
   ]
  },
  {
   "cell_type": "code",
   "execution_count": 5,
   "metadata": {
    "ExecuteTime": {
     "end_time": "2019-03-01T07:08:14.683080Z",
     "start_time": "2019-03-01T07:08:14.678287Z"
    }
   },
   "outputs": [],
   "source": [
    "x = array([1,2,3,4,5])\n",
    "y = array([10,20,30,40,50])\n",
    "weight = [1,1]\n",
    "alpha = 0.01"
   ]
  },
  {
   "cell_type": "code",
   "execution_count": 6,
   "metadata": {
    "ExecuteTime": {
     "end_time": "2019-03-01T07:08:15.891110Z",
     "start_time": "2019-03-01T07:08:15.630429Z"
    }
   },
   "outputs": [
    {
     "name": "stdout",
     "output_type": "stream",
     "text": [
      "[0.5984457163631015, 9.834240132675342] 0.0654082057\n"
     ]
    },
    {
     "data": {
      "image/png": "[encoded data removed]",
      "text/plain": [
       "<Figure size 432x288 with 1 Axes>"
      ]
     },
     "metadata": {
      "needs_background": "light"
     },
     "output_type": "display_data"
    }
   ],
   "source": [
    "plt.scatter(x,y,c='r')\n",
    "weight = linear_fit(x,y,weight,alpha)\n",
    "plot_y = hypothesis(x,weight)\n",
    "plt.plot(x,plot_y,c=\"b\")\n",
    "plt.show()"
   ]
  },
  {
   "cell_type": "code",
   "execution_count": null,
   "metadata": {},
   "outputs": [],
   "source": []
  }
 ],
 "metadata": {
  "kernelspec": {
   "display_name": "Python 3",
   "language": "python",
   "name": "python3"
  },
  "language_info": {
   "codemirror_mode": {
    "name": "ipython",
    "version": 3
   },
   "file_extension": ".py",
   "mimetype": "text/x-python",
   "name": "python",
   "nbconvert_exporter": "python",
   "pygments_lexer": "ipython3",
   "version": "3.6.8"
  }
 },
 "nbformat": 4,
 "nbformat_minor": 2
}
